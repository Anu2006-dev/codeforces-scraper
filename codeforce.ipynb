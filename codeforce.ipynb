{
 "cells": [
  {
   "cell_type": "code",
   "execution_count": 30,
   "metadata": {},
   "outputs": [],
   "source": [
    "import tkinter as tk\n",
    "import pandas as pd\n",
    "import requests\n",
    "import json"
   ]
  },
  {
   "cell_type": "code",
   "execution_count": 31,
   "metadata": {},
   "outputs": [
    {
     "data": {
      "text/plain": [
       "''"
      ]
     },
     "execution_count": 31,
     "metadata": {},
     "output_type": "execute_result"
    }
   ],
   "source": [
    "root = tk.Tk()\n",
    "root.geometry('600x600')\n",
    "root.title('codeforces user info')"
   ]
  },
  {
   "cell_type": "code",
   "execution_count": 32,
   "metadata": {},
   "outputs": [],
   "source": [
    "entry = tk.Entry(root, text='User name')\n",
    "entry.place(x=120, y=200)\n",
    "username = entry.get()"
   ]
  },
  {
   "cell_type": "code",
   "execution_count": 34,
   "metadata": {},
   "outputs": [],
   "source": [
    "frame = tk.Frame(root, bg='#7e3ba8')\n",
    "frame.place(relx = 0.1, rely= 0.1, relwidth = 0.8,\n",
    "            relheight = 0.8)\n",
    "\n",
    "label = tk.Label(root, text='welcome', relief='solid',\n",
    "                 width=20, font=('arial', 19, 'bold'))\n",
    "\n",
    "label.place(x=150, y=80)\n",
    "entry = tk.Entry(root)\n",
    "entry.place(x=170, y=120)\n",
    "username = entry.get()"
   ]
  },
  {
   "cell_type": "code",
   "execution_count": 37,
   "metadata": {},
   "outputs": [],
   "source": [
    "url = f'https://codeforces.com/api/user.rating/?handle={username}'\n",
    "resp = requests.get(url)"
   ]
  },
  {
   "cell_type": "code",
   "execution_count": null,
   "metadata": {},
   "outputs": [],
   "source": [
    "raw_data = json.loads(resp.text)\n",
    "del raw_data['status']\n",
    "# user_data = pd.DataFrame(raw_data['result'])\n",
    "# user_data.head()\n",
    "raw_data"
   ]
  },
  {
   "cell_type": "code",
   "execution_count": null,
   "metadata": {},
   "outputs": [],
   "source": [
    "max_index = len(user_data) - 1\n",
    "\n",
    "current_rating = user_data.newRating[max_index]\n",
    "\n",
    "current_rank = user_data.loc[max_index, 'rank']\n",
    "max_rating = max(user_data['newRating'])\n",
    "max_rank = max(user_data['rank'])\n",
    "\n",
    "current_rating, current_rank, max_rating, max_rank"
   ]
  },
  {
   "cell_type": "code",
   "execution_count": 36,
   "metadata": {},
   "outputs": [],
   "source": [
    "root.mainloop()"
   ]
  },
  {
   "cell_type": "code",
   "execution_count": null,
   "metadata": {},
   "outputs": [],
   "source": []
  }
 ],
 "metadata": {
  "kernelspec": {
   "display_name": "Python 3",
   "language": "python",
   "name": "python3"
  },
  "language_info": {
   "codemirror_mode": {
    "name": "ipython",
    "version": 3
   },
   "file_extension": ".py",
   "mimetype": "text/x-python",
   "name": "python",
   "nbconvert_exporter": "python",
   "pygments_lexer": "ipython3",
   "version": "3.7.3"
  }
 },
 "nbformat": 4,
 "nbformat_minor": 2
}
